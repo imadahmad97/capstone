{
 "cells": [
  {
   "cell_type": "code",
   "execution_count": 61,
   "metadata": {},
   "outputs": [],
   "source": [
    "import pandas as pd"
   ]
  },
  {
   "cell_type": "code",
   "execution_count": 62,
   "metadata": {},
   "outputs": [],
   "source": [
    "crimes = pd.read_csv('data/crime.csv')\n",
    "education = pd.read_csv('data/education.csv')\n",
    "population = pd.read_csv('data/population.csv')"
   ]
  },
  {
   "cell_type": "markdown",
   "metadata": {},
   "source": [
    "### Cleaning and Combining the 3 Datasets"
   ]
  },
  {
   "cell_type": "code",
   "execution_count": 66,
   "metadata": {},
   "outputs": [
    {
     "data": {
      "text/html": [
       "<div>\n",
       "<style scoped>\n",
       "    .dataframe tbody tr th:only-of-type {\n",
       "        vertical-align: middle;\n",
       "    }\n",
       "\n",
       "    .dataframe tbody tr th {\n",
       "        vertical-align: top;\n",
       "    }\n",
       "\n",
       "    .dataframe thead th {\n",
       "        text-align: right;\n",
       "    }\n",
       "</style>\n",
       "<table border=\"1\" class=\"dataframe\">\n",
       "  <thead>\n",
       "    <tr style=\"text-align: right;\">\n",
       "      <th></th>\n",
       "      <th>Province</th>\n",
       "      <th>Year</th>\n",
       "      <th>Crimes</th>\n",
       "      <th>Registrants</th>\n",
       "      <th>Population</th>\n",
       "    </tr>\n",
       "  </thead>\n",
       "  <tbody>\n",
       "    <tr>\n",
       "      <th>0</th>\n",
       "      <td>Alberta</td>\n",
       "      <td>2017</td>\n",
       "      <td>1005325.43</td>\n",
       "      <td>194010</td>\n",
       "      <td>4258195</td>\n",
       "    </tr>\n",
       "    <tr>\n",
       "      <th>1</th>\n",
       "      <td>Alberta</td>\n",
       "      <td>2018</td>\n",
       "      <td>1043221.45</td>\n",
       "      <td>200391</td>\n",
       "      <td>4317665</td>\n",
       "    </tr>\n",
       "    <tr>\n",
       "      <th>2</th>\n",
       "      <td>Alberta</td>\n",
       "      <td>2019</td>\n",
       "      <td>1071487.39</td>\n",
       "      <td>203823</td>\n",
       "      <td>4384848</td>\n",
       "    </tr>\n",
       "    <tr>\n",
       "      <th>3</th>\n",
       "      <td>Alberta</td>\n",
       "      <td>2020</td>\n",
       "      <td>933926.17</td>\n",
       "      <td>203523</td>\n",
       "      <td>4421857</td>\n",
       "    </tr>\n",
       "    <tr>\n",
       "      <th>4</th>\n",
       "      <td>British Columbia</td>\n",
       "      <td>2017</td>\n",
       "      <td>838288.24</td>\n",
       "      <td>286914</td>\n",
       "      <td>4956550</td>\n",
       "    </tr>\n",
       "  </tbody>\n",
       "</table>\n",
       "</div>"
      ],
      "text/plain": [
       "           Province  Year      Crimes  Registrants  Population\n",
       "0           Alberta  2017  1005325.43       194010     4258195\n",
       "1           Alberta  2018  1043221.45       200391     4317665\n",
       "2           Alberta  2019  1071487.39       203823     4384848\n",
       "3           Alberta  2020   933926.17       203523     4421857\n",
       "4  British Columbia  2017   838288.24       286914     4956550"
      ]
     },
     "execution_count": 66,
     "metadata": {},
     "output_type": "execute_result"
    }
   ],
   "source": [
    "# Removing the year 2021 as this is not included in the other datasets\n",
    "crimes = crimes.loc[crimes['REF_DATE'] != 2021]\n",
    "\n",
    "# Remove unwanted columns. I kept the 'GEO', 'REF_DATE', and 'VALUE' columns.\n",
    "crimes = crimes[['GEO', 'REF_DATE', 'VALUE']]\n",
    "\n",
    "# Group by 'GEO' and 'REF_DATE'. Here I summed together the values for each province for each year.\n",
    "crimes_grouped = crimes.groupby(['GEO', 'REF_DATE'])['VALUE'].sum().reset_index()\n",
    "\n",
    "# Clean 'GEO' names. Remove the number in brackets at the end of each province name.\n",
    "crimes_grouped['GEO'] = crimes_grouped['GEO'].str.replace('\\s*\\[\\d+\\]', '', regex=True)\n",
    "\n",
    "# Filter out unwanted rows. I removed the rows that contained the following value in the 'GEO' column.\n",
    "crimes_grouped = crimes_grouped.loc[crimes_grouped['GEO'] != 'Canadian Forces Military Police']\n",
    "\n",
    "# Rename columns. I renamed the columns to 'Province', 'Year', and 'Crimes'.\n",
    "crimes_grouped = crimes_grouped.rename(columns={'VALUE': 'Crimes', 'GEO': 'Province', 'REF_DATE': 'Year'})\n",
    "\n",
    "# Group Territories. I grouped the territories together and summed the values for each year.\n",
    "territories = ['Northwest Territories', 'Nunavut', 'Yukon']\n",
    "total_territories_crimes = crimes_grouped[crimes_grouped['Province'].isin(territories)].groupby('Year')['Crimes'].sum().reset_index()\n",
    "total_territories_crimes['Province'] = 'Territories'\n",
    "\n",
    "# Remove Territories from crimes_grouped and add total_territories_crimes to crimes_grouped.\n",
    "crimes_grouped = pd.concat([crimes_grouped, total_territories_crimes], ignore_index=True)\n",
    "crimes_grouped = crimes_grouped[~crimes_grouped['Province'].isin(territories)]\n",
    "\n",
    "# Group Territories for the Population dataset\n",
    "total_territories_population = population[population['Province'].isin(territories)].groupby('Year')['Population'].sum().reset_index()\n",
    "total_territories_population['Province'] = 'Territories'\n",
    "\n",
    "# Remove individual Territories from the Population dataset and add the grouped data\n",
    "population = pd.concat([population, total_territories_population], ignore_index=True)\n",
    "population = population[~population['Province'].isin(territories)]\n",
    "\n",
    "# Merging crimes_grouped with education based on Province and Year\n",
    "merged_df = crimes_grouped.merge(education, on=['Province', 'Year'], how='outer')\n",
    "\n",
    "# Merging the previous result with the population dataset based on Province and Year\n",
    "final_df = merged_df.merge(population, on=['Province', 'Year'], how='outer')\n",
    "\n",
    "final_df.head(5)"
   ]
  },
  {
   "cell_type": "code",
   "execution_count": null,
   "metadata": {},
   "outputs": [],
   "source": []
  }
 ],
 "metadata": {
  "kernelspec": {
   "display_name": "tf-ready",
   "language": "python",
   "name": "python3"
  },
  "language_info": {
   "codemirror_mode": {
    "name": "ipython",
    "version": 3
   },
   "file_extension": ".py",
   "mimetype": "text/x-python",
   "name": "python",
   "nbconvert_exporter": "python",
   "pygments_lexer": "ipython3",
   "version": "3.9.16"
  },
  "orig_nbformat": 4
 },
 "nbformat": 4,
 "nbformat_minor": 2
}
