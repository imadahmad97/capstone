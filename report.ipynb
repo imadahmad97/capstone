{
 "cells": [
  {
   "cell_type": "code",
   "execution_count": 17,
   "metadata": {},
   "outputs": [],
   "source": [
    "import pandas as pd"
   ]
  },
  {
   "cell_type": "code",
   "execution_count": 18,
   "metadata": {},
   "outputs": [],
   "source": [
    "crimes = pd.read_csv('data/crime.csv')\n",
    "education = pd.read_csv('data/education.csv')\n",
    "population = pd.read_csv('data/population.csv')\n",
    "visitors = pd.read_csv('data/visitors.csv')\n",
    "census = pd.read_csv('data/population factors.csv')"
   ]
  },
  {
   "cell_type": "markdown",
   "metadata": {},
   "source": [
    "### Cleaning and Combining the Datasets"
   ]
  },
  {
   "cell_type": "code",
   "execution_count": 19,
   "metadata": {},
   "outputs": [],
   "source": [
    "# Removing the year 2021 as this is not included in the other datasets\n",
    "crimes = crimes.loc[crimes['REF_DATE'] != 2021]\n",
    "\n",
    "# Remove unwanted columns. I kept the 'GEO', 'REF_DATE', and 'VALUE' columns.\n",
    "crimes = crimes[['GEO', 'REF_DATE', 'VALUE']]\n",
    "\n",
    "# Group by 'GEO' and 'REF_DATE'. Here I summed together the values for each province for each year.\n",
    "crimes_grouped = crimes.groupby(['GEO', 'REF_DATE'])['VALUE'].sum().reset_index()\n",
    "\n",
    "# Clean 'GEO' names. Remove the number in brackets at the end of each province name.\n",
    "crimes_grouped['GEO'] = crimes_grouped['GEO'].str.replace('\\s*\\[\\d+\\]', '', regex=True)\n",
    "\n",
    "# Filter out unwanted rows. I removed the rows that contained the following value in the 'GEO' column.\n",
    "crimes_grouped = crimes_grouped.loc[crimes_grouped['GEO'] != 'Canadian Forces Military Police']\n",
    "\n",
    "# Rename columns. I renamed the columns to 'Province', 'Year', and 'Crimes'.\n",
    "crimes_grouped = crimes_grouped.rename(columns={'VALUE': 'Crimes', 'GEO': 'Province', 'REF_DATE': 'Year'})\n",
    "\n",
    "# Group Territories. I grouped the territories together and summed the values for each year.\n",
    "territories = ['Northwest Territories', 'Nunavut', 'Yukon']\n",
    "total_territories_crimes = crimes_grouped[crimes_grouped['Province'].isin(territories)].groupby('Year')['Crimes'].sum().reset_index()\n",
    "total_territories_crimes['Province'] = 'Territories'\n",
    "\n",
    "# Remove Territories from crimes_grouped and add total_territories_crimes to crimes_grouped.\n",
    "crimes_grouped = pd.concat([crimes_grouped, total_territories_crimes], ignore_index=True)\n",
    "crimes_grouped = crimes_grouped[~crimes_grouped['Province'].isin(territories)]\n",
    "\n",
    "# Group Territories for the Population dataset\n",
    "total_territories_population = population[population['Province'].isin(territories)].groupby('Year')['Population'].sum().reset_index()\n",
    "total_territories_population['Province'] = 'Territories'\n",
    "\n",
    "# Remove individual Territories from the Population dataset and add the grouped data\n",
    "population = pd.concat([population, total_territories_population], ignore_index=True)\n",
    "population = population[~population['Province'].isin(territories)]\n",
    "\n",
    "# Group Territories for the Education dataset\n",
    "total_territories_visitors = visitors[visitors['Province'].isin(territories)].groupby('Year')['Visitors'].sum().reset_index()\n",
    "total_territories_visitors['Province'] = 'Territories'\n",
    "\n",
    "# Remove individual Territories from the Education dataset and add the grouped data\n",
    "visitors = pd.concat([visitors, total_territories_visitors], ignore_index=True)\n",
    "visitors = visitors[~visitors['Province'].isin(territories)]\n",
    "\n",
    "# Merge the datasets together\n",
    "merged_df = crimes_grouped.merge(education, on=['Province', 'Year'], how='outer')\n",
    "\n",
    "merged_df_2 = merged_df.merge(population, on=['Province', 'Year'], how='outer')\n",
    "\n",
    "merged_df_3 = merged_df_2.merge(visitors, on=['Province', 'Year'], how='outer')\n",
    "\n",
    "final_merge = merged_df_3.merge(census, on=['Province', 'Year'], how='outer')"
   ]
  },
  {
   "cell_type": "code",
   "execution_count": 21,
   "metadata": {},
   "outputs": [],
   "source": [
    "final_merge.to_csv('merged_dataset.csv', index=False)"
   ]
  },
  {
   "cell_type": "code",
   "execution_count": null,
   "metadata": {},
   "outputs": [],
   "source": []
  }
 ],
 "metadata": {
  "kernelspec": {
   "display_name": "tf-ready",
   "language": "python",
   "name": "python3"
  },
  "language_info": {
   "codemirror_mode": {
    "name": "ipython",
    "version": 3
   },
   "file_extension": ".py",
   "mimetype": "text/x-python",
   "name": "python",
   "nbconvert_exporter": "python",
   "pygments_lexer": "ipython3",
   "version": "3.9.16"
  },
  "orig_nbformat": 4
 },
 "nbformat": 4,
 "nbformat_minor": 2
}
